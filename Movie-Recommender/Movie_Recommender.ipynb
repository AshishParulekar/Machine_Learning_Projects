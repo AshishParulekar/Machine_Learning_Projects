{
 "cells": [
  {
   "cell_type": "code",
   "execution_count": 117,
   "id": "b3deb6e5",
   "metadata": {},
   "outputs": [],
   "source": [
    "import pandas as pd\n",
    "import ast\n",
    "import warnings\n",
    "warnings.filterwarnings('ignore')\n",
    "from sklearn.feature_extraction.text import CountVectorizer\n",
    "from nltk.stem.porter import PorterStemmer\n",
    "from sklearn.metrics.pairwise import cosine_similarity\n",
    "import bz2file as bz2"
   ]
  },
  {
   "cell_type": "code",
   "execution_count": null,
   "id": "3fb547f6",
   "metadata": {},
   "outputs": [],
   "source": []
  },
  {
   "cell_type": "code",
   "execution_count": 118,
   "id": "c806f9ea",
   "metadata": {},
   "outputs": [],
   "source": [
    "Data_1=pd.read_csv('tmdb_5000_movies.csv')"
   ]
  },
  {
   "cell_type": "code",
   "execution_count": 119,
   "id": "ec605dac",
   "metadata": {},
   "outputs": [],
   "source": [
    "Data_2=pd.read_csv('tmdb_5000_credits.csv')"
   ]
  },
  {
   "cell_type": "code",
   "execution_count": 120,
   "id": "70d5c6f9",
   "metadata": {},
   "outputs": [],
   "source": [
    "#for Poster\n",
    "Data_3=pd.read_csv('movies_complete.csv')\n",
    "Data_3=Poster[['title','poster_path']]"
   ]
  },
  {
   "cell_type": "code",
   "execution_count": 121,
   "id": "6b2ea55d",
   "metadata": {},
   "outputs": [
    {
     "data": {
      "text/html": [
       "<div>\n",
       "<style scoped>\n",
       "    .dataframe tbody tr th:only-of-type {\n",
       "        vertical-align: middle;\n",
       "    }\n",
       "\n",
       "    .dataframe tbody tr th {\n",
       "        vertical-align: top;\n",
       "    }\n",
       "\n",
       "    .dataframe thead th {\n",
       "        text-align: right;\n",
       "    }\n",
       "</style>\n",
       "<table border=\"1\" class=\"dataframe\">\n",
       "  <thead>\n",
       "    <tr style=\"text-align: right;\">\n",
       "      <th></th>\n",
       "      <th>budget</th>\n",
       "      <th>genres</th>\n",
       "      <th>homepage</th>\n",
       "      <th>id</th>\n",
       "      <th>keywords</th>\n",
       "      <th>original_language</th>\n",
       "      <th>original_title</th>\n",
       "      <th>overview</th>\n",
       "      <th>popularity</th>\n",
       "      <th>production_companies</th>\n",
       "      <th>production_countries</th>\n",
       "      <th>release_date</th>\n",
       "      <th>revenue</th>\n",
       "      <th>runtime</th>\n",
       "      <th>spoken_languages</th>\n",
       "      <th>status</th>\n",
       "      <th>tagline</th>\n",
       "      <th>title</th>\n",
       "      <th>vote_average</th>\n",
       "      <th>vote_count</th>\n",
       "    </tr>\n",
       "  </thead>\n",
       "  <tbody>\n",
       "    <tr>\n",
       "      <th>0</th>\n",
       "      <td>237000000</td>\n",
       "      <td>[{\"id\": 28, \"name\": \"Action\"}, {\"id\": 12, \"nam...</td>\n",
       "      <td>http://www.avatarmovie.com/</td>\n",
       "      <td>19995</td>\n",
       "      <td>[{\"id\": 1463, \"name\": \"culture clash\"}, {\"id\":...</td>\n",
       "      <td>en</td>\n",
       "      <td>Avatar</td>\n",
       "      <td>In the 22nd century, a paraplegic Marine is di...</td>\n",
       "      <td>150.437577</td>\n",
       "      <td>[{\"name\": \"Ingenious Film Partners\", \"id\": 289...</td>\n",
       "      <td>[{\"iso_3166_1\": \"US\", \"name\": \"United States o...</td>\n",
       "      <td>2009-12-10</td>\n",
       "      <td>2787965087</td>\n",
       "      <td>162.0</td>\n",
       "      <td>[{\"iso_639_1\": \"en\", \"name\": \"English\"}, {\"iso...</td>\n",
       "      <td>Released</td>\n",
       "      <td>Enter the World of Pandora.</td>\n",
       "      <td>Avatar</td>\n",
       "      <td>7.2</td>\n",
       "      <td>11800</td>\n",
       "    </tr>\n",
       "  </tbody>\n",
       "</table>\n",
       "</div>"
      ],
      "text/plain": [
       "      budget                                             genres  \\\n",
       "0  237000000  [{\"id\": 28, \"name\": \"Action\"}, {\"id\": 12, \"nam...   \n",
       "\n",
       "                      homepage     id  \\\n",
       "0  http://www.avatarmovie.com/  19995   \n",
       "\n",
       "                                            keywords original_language  \\\n",
       "0  [{\"id\": 1463, \"name\": \"culture clash\"}, {\"id\":...                en   \n",
       "\n",
       "  original_title                                           overview  \\\n",
       "0         Avatar  In the 22nd century, a paraplegic Marine is di...   \n",
       "\n",
       "   popularity                               production_companies  \\\n",
       "0  150.437577  [{\"name\": \"Ingenious Film Partners\", \"id\": 289...   \n",
       "\n",
       "                                production_countries release_date     revenue  \\\n",
       "0  [{\"iso_3166_1\": \"US\", \"name\": \"United States o...   2009-12-10  2787965087   \n",
       "\n",
       "   runtime                                   spoken_languages    status  \\\n",
       "0    162.0  [{\"iso_639_1\": \"en\", \"name\": \"English\"}, {\"iso...  Released   \n",
       "\n",
       "                       tagline   title  vote_average  vote_count  \n",
       "0  Enter the World of Pandora.  Avatar           7.2       11800  "
      ]
     },
     "execution_count": 121,
     "metadata": {},
     "output_type": "execute_result"
    }
   ],
   "source": [
    "Data_1.head(1)"
   ]
  },
  {
   "cell_type": "code",
   "execution_count": 122,
   "id": "d79ca081",
   "metadata": {},
   "outputs": [],
   "source": [
    "movies=Data_2.merge(Data_1,on='title')\n",
    "movies=pd.merge(movies,Data_3,on='title')"
   ]
  },
  {
   "cell_type": "code",
   "execution_count": 123,
   "id": "96a600cf",
   "metadata": {},
   "outputs": [],
   "source": [
    "Movies=movies[['movie_id','title','cast','crew','genres','keywords','overview','poster_path']]"
   ]
  },
  {
   "cell_type": "code",
   "execution_count": 124,
   "id": "e9120273",
   "metadata": {},
   "outputs": [],
   "source": [
    "Movies.dropna(inplace=True)"
   ]
  },
  {
   "cell_type": "code",
   "execution_count": 125,
   "id": "65df9a46",
   "metadata": {},
   "outputs": [],
   "source": [
    "Movies.drop_duplicates(inplace=True)"
   ]
  },
  {
   "cell_type": "code",
   "execution_count": 126,
   "id": "445b00ad",
   "metadata": {},
   "outputs": [],
   "source": [
    "def name(x):\n",
    "    y=[ ]\n",
    "    x=ast.literal_eval(x)\n",
    "    a=0\n",
    "    for i in x:     \n",
    "        k=i['name']\n",
    "        #if a==3:\n",
    "           # break\n",
    "        #a+=1\n",
    "        k=k.replace(' ','')\n",
    "        k=k.lower()\n",
    "        y.append(k)\n",
    "    return(y)\n",
    "        "
   ]
  },
  {
   "cell_type": "code",
   "execution_count": 127,
   "id": "c1b98d8b",
   "metadata": {},
   "outputs": [],
   "source": [
    "Movies['cast']=Movies['cast'].apply(name)"
   ]
  },
  {
   "cell_type": "code",
   "execution_count": 128,
   "id": "02f8e3b7",
   "metadata": {},
   "outputs": [],
   "source": [
    "Movies['genres']=Movies['genres'].apply(name)"
   ]
  },
  {
   "cell_type": "code",
   "execution_count": 129,
   "id": "168fc275",
   "metadata": {},
   "outputs": [],
   "source": [
    "Movies['keywords']=Movies['keywords'].apply(name)"
   ]
  },
  {
   "cell_type": "code",
   "execution_count": 130,
   "id": "d6e6e312",
   "metadata": {},
   "outputs": [],
   "source": [
    "Movies['overview']=Movies['overview'].apply(lambda x :x.split( ))\n",
    "#Movies['overview']=Movies['overview'].apply(lambda x :x.lower())"
   ]
  },
  {
   "cell_type": "code",
   "execution_count": 131,
   "id": "a93cd294",
   "metadata": {},
   "outputs": [],
   "source": [
    "def crews(y):\n",
    "    T=[ ]\n",
    "    y=ast.literal_eval(y)\n",
    "    for i in y :\n",
    "        #print(y)\n",
    "        if(i['job']=='Director'):\n",
    "            D=i['name']\n",
    "            D=D.replace(' ','')\n",
    "            D=D.lower()\n",
    "            T.append(D)\n",
    "    return(T)\n",
    "        "
   ]
  },
  {
   "cell_type": "code",
   "execution_count": 132,
   "id": "25327207",
   "metadata": {},
   "outputs": [],
   "source": [
    "Movies['crew']=Movies['crew'].apply(crews)"
   ]
  },
  {
   "cell_type": "code",
   "execution_count": 133,
   "id": "ed40569f",
   "metadata": {},
   "outputs": [],
   "source": [
    "Tab=Movies['cast']+Movies['crew']+Movies['genres']+Movies['keywords']+Movies['overview']"
   ]
  },
  {
   "cell_type": "code",
   "execution_count": 134,
   "id": "eeca0529",
   "metadata": {},
   "outputs": [],
   "source": [
    "Tab=Tab.apply(lambda x:' '.join(x))"
   ]
  },
  {
   "cell_type": "code",
   "execution_count": 135,
   "id": "81f46a51",
   "metadata": {},
   "outputs": [],
   "source": [
    "Movies['Tab']=Tab"
   ]
  },
  {
   "cell_type": "code",
   "execution_count": 136,
   "id": "d9059543",
   "metadata": {},
   "outputs": [],
   "source": [
    "Movies=Movies[['movie_id', 'title','poster_path','Tab']]"
   ]
  },
  {
   "cell_type": "code",
   "execution_count": 137,
   "id": "7cdb03f6",
   "metadata": {},
   "outputs": [],
   "source": [
    "ps=PorterStemmer()"
   ]
  },
  {
   "cell_type": "code",
   "execution_count": 138,
   "id": "39ada6df",
   "metadata": {},
   "outputs": [],
   "source": [
    "def steamr(text):\n",
    "    G=[]\n",
    "    for i in text.split():\n",
    "        i=i.lower()\n",
    "        G.append(ps.stem(i))\n",
    "        \n",
    "    return ' '.join(G)        \n",
    "    "
   ]
  },
  {
   "cell_type": "code",
   "execution_count": 139,
   "id": "dfd078b3",
   "metadata": {},
   "outputs": [],
   "source": [
    "Movies['Tab']=Movies['Tab'].apply(steamr)"
   ]
  },
  {
   "cell_type": "code",
   "execution_count": 143,
   "id": "e0e1e85e",
   "metadata": {},
   "outputs": [],
   "source": [
    "CV=CountVectorizer(max_features=5000,stop_words='english')"
   ]
  },
  {
   "cell_type": "code",
   "execution_count": 144,
   "id": "6764b215",
   "metadata": {},
   "outputs": [],
   "source": [
    "Vector=CV.fit_transform(Movies['Tab']).toarray()"
   ]
  },
  {
   "cell_type": "code",
   "execution_count": 145,
   "id": "17683878",
   "metadata": {},
   "outputs": [],
   "source": [
    "Simillier=cosine_similarity(Vector)"
   ]
  },
  {
   "cell_type": "code",
   "execution_count": 146,
   "id": "7560031d",
   "metadata": {},
   "outputs": [],
   "source": [
    "import pickle"
   ]
  },
  {
   "cell_type": "code",
   "execution_count": 147,
   "id": "2c262c0a",
   "metadata": {},
   "outputs": [],
   "source": [
    "#pickle.dump(Simillier,open('Movie_recommander_111.pkl','wb'))"
   ]
  },
  {
   "cell_type": "code",
   "execution_count": 148,
   "id": "d811c742",
   "metadata": {},
   "outputs": [],
   "source": [
    "pickle.dump(Movies,open('Data_Frame.pkl','wb'))"
   ]
  },
  {
   "cell_type": "code",
   "execution_count": 149,
   "id": "7050addb",
   "metadata": {},
   "outputs": [],
   "source": [
    "def compressed_pickle(title, data):\n",
    "    with bz2.BZ2File(title + '.pbz2', 'w') as f:\n",
    "        pickle.dump(data, f)"
   ]
  },
  {
   "cell_type": "code",
   "execution_count": 150,
   "id": "5be3a4f1",
   "metadata": {},
   "outputs": [],
   "source": [
    "compressed_pickle('Movie_Recommandtion_System', Simillier)"
   ]
  },
  {
   "cell_type": "markdown",
   "id": "3f435419",
   "metadata": {},
   "source": [
    "# END"
   ]
  }
 ],
 "metadata": {
  "kernelspec": {
   "display_name": "Python 3 (ipykernel)",
   "language": "python",
   "name": "python3"
  },
  "language_info": {
   "codemirror_mode": {
    "name": "ipython",
    "version": 3
   },
   "file_extension": ".py",
   "mimetype": "text/x-python",
   "name": "python",
   "nbconvert_exporter": "python",
   "pygments_lexer": "ipython3",
   "version": "3.9.7"
  }
 },
 "nbformat": 4,
 "nbformat_minor": 5
}
